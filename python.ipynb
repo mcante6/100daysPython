{
 "cells": [
  {
   "cell_type": "code",
   "execution_count": 1,
   "metadata": {},
   "outputs": [
    {
     "name": "stdout",
     "output_type": "stream",
     "text": [
      "Hello, Marcio\n"
     ]
    }
   ],
   "source": [
    "#input in inside print! genius\n",
    "print(\"Hello, \" + input(\"What's is your name?\"))"
   ]
  },
  {
   "cell_type": "code",
   "execution_count": null,
   "metadata": {},
   "outputs": [],
   "source": [
    "#input\n",
    "print(len(input()))\n"
   ]
  },
  {
   "cell_type": "code",
   "execution_count": 2,
   "metadata": {},
   "outputs": [
    {
     "name": "stdout",
     "output_type": "stream",
     "text": [
      "29\n"
     ]
    }
   ],
   "source": [
    "#BMI\n",
    "# 1st input: enter height in meters e.g: 1.65\n",
    "height = input()\n",
    "# 2nd input: enter weight in kilograms e.g: 72\n",
    "weight = input()\n",
    "# 🚨 Don't change the code above 👆\n",
    "\n",
    "# Write your code below this line 👇\n",
    "height_f = float(height)\n",
    "bmi = int(weight) / (height_f**2)\n",
    "print(int(bmi))"
   ]
  },
  {
   "cell_type": "code",
   "execution_count": null,
   "metadata": {},
   "outputs": [],
   "source": [
    "#weeks left\n",
    "age = input()\n",
    "# 🚨 Don't change the code above 👆\n",
    "# Write your code below this line 👇\n",
    "\n",
    "x=  (90 -int(age))  * 52\n",
    "print(f'You have {x} weeks left.')"
   ]
  },
  {
   "cell_type": "code",
   "execution_count": null,
   "metadata": {},
   "outputs": [],
   "source": [
    "#even or odd\n",
    "# Which number do you want to check?\n",
    "number = int(input())\n",
    "# 🚨 Don't change the code above 👆\n",
    "\n",
    "# Write your code below this line 👇\n",
    "\n",
    "if number % 2 == 0:\n",
    "  print(\"This is an even number.\")\n",
    "else:\n",
    "  print(\"This is an odd number.\")"
   ]
  },
  {
   "cell_type": "code",
   "execution_count": 3,
   "metadata": {},
   "outputs": [
    {
     "name": "stdout",
     "output_type": "stream",
     "text": [
      "Your BMI is 29.194126488611396, you are slightly overweight.\n"
     ]
    }
   ],
   "source": [
    "#BMI 2.0\n",
    "# Enter your height in meters e.g., 1.55\n",
    "height = float(input())\n",
    "# Enter your weight in kilograms e.g., 72\n",
    "weight = int(input())\n",
    "# 🚨 Don't change the code above 👆\n",
    "\n",
    "#Write your code below this line 👇\n",
    "bmi = weight / height**2\n",
    "\n",
    "if bmi < 18.5:\n",
    "  print(f\"Your BMI is {bmi}, you are underweight.\")\n",
    "elif bmi < 25: \n",
    "  print(f\"Your BMI is {bmi}, you have a normal weight.\")\n",
    "elif bmi < 30:\n",
    "  print(f\"Your BMI is {bmi}, you are slightly overweight.\")\n",
    "elif bmi < 35:\n",
    "  print(f\"Your BMI is {bmi}, you are obese.\")\n",
    "else:\n",
    "  print(f\"Your BMI is {bmi}, you are clinically obese.\")\n"
   ]
  },
  {
   "cell_type": "code",
   "execution_count": null,
   "metadata": {},
   "outputs": [],
   "source": [
    "#leap year? each year you get 6hours more, every 4 years add 1 to feburary 29\n",
    "\n",
    "  # Which year do you want to check?\n",
    "year = int(input())\n",
    "# 🚨 Don't change the code above 👆\n",
    "\n",
    "# Write your code below this line 👇\n",
    "if year % 4 != 0:\n",
    "  print(\"Not leap year\")\n",
    "elif year % 100 != 0:\n",
    "  print(\"Leap year\")\n",
    "elif year % 400 == 0:\n",
    "  print(\"Leap year\")\n",
    "else:\n",
    "  print(\"Not leap year\")"
   ]
  },
  {
   "cell_type": "code",
   "execution_count": null,
   "metadata": {},
   "outputs": [],
   "source": [
    "#other way to use if statements for leap yer\n",
    "\n",
    "# Which year do you want to check?\n",
    "year = int(input())\n",
    "\n",
    "if year % 4 == 0:\n",
    "  if year % 100 == 0:\n",
    "    if year % 400 == 0:\n",
    "      print(\"Leap year\")\n",
    "    else:\n",
    "      print(\"Not leap year\")\n",
    "  else:\n",
    "    print(\"Leap year\")\n",
    "else:\n",
    "  print(\"Not leap year\") "
   ]
  },
  {
   "cell_type": "code",
   "execution_count": 17,
   "metadata": {},
   "outputs": [
    {
     "name": "stdout",
     "output_type": "stream",
     "text": [
      "Wellcome to the PARK!\n"
     ]
    },
    {
     "name": "stdout",
     "output_type": "stream",
     "text": [
      "You can ride de rollercoaster!\n",
      "You're in a midlife crise, you go for free on us!\n",
      "Your final bill is $3\n"
     ]
    }
   ],
   "source": [
    "# IF and ELSE (NESTED STATEMENT)\n",
    "print(\"Wellcome to the PARK!\")\n",
    "height = int(input(\"What's your height? \"))\n",
    "bill = 0\n",
    "\n",
    "if height >= 120:\n",
    "    print(\"You can ride de rollercoaster!\")\n",
    "    age = int(input(\"What's your age? \"))\n",
    "    if age < 12:\n",
    "        bill = 5\n",
    "        print(\"Kids tickets are $5.\")\n",
    "    elif age <= 18:\n",
    "        bill = 7\n",
    "        print(\"Teenagers tickets are $7\")\n",
    "    elif age >= 45 and age <= 55:\n",
    "        print(\"You're in a midlife crise, you go for free on us!\")\n",
    "    else:\n",
    "        bill = 12\n",
    "        print(\"Adult tickets are $12\")\n",
    "    wants_photo = input(\"Do you want a photo taken for only $3? Y or N\")\n",
    "    if wants_photo == \"Y\":\n",
    "        bill += 3\n",
    "    print(f\"Your final bill is ${bill}\")\n",
    "\n",
    "\n",
    "\n",
    "\n",
    "else:\n",
    "    print(\"Sorry, tou have to grow taller before you can ride.\") "
   ]
  },
  {
   "cell_type": "code",
   "execution_count": 5,
   "metadata": {},
   "outputs": [
    {
     "name": "stdout",
     "output_type": "stream",
     "text": [
      "Thank you for choosing Python Pizza Deliveries!\n"
     ]
    },
    {
     "name": "stdout",
     "output_type": "stream",
     "text": [
      "Your final bill is: $24.\n"
     ]
    }
   ],
   "source": [
    "#PIZZERIA\n",
    "\n",
    "\n",
    "# Instructions\n",
    "# Congratulations, you've got a job at Python Pizza! Your first job is to build an automatic pizza order program.\n",
    "\n",
    "# Based on a user's order, work out their final bill.\n",
    "\n",
    "# Small pizza (S): $15\n",
    "\n",
    "# Medium pizza (M): $20\n",
    "\n",
    "# Large pizza (L): $25\n",
    "\n",
    "# Add pepperoni for small pizza (Y or N): +$2\n",
    "\n",
    "# Add pepperoni for medium or large pizza (Y or N): +$3\n",
    "\n",
    "# Add extra cheese for any size pizza (Y or N): +$1\n",
    "\n",
    "# Example Input\n",
    "# L\n",
    "# Y\n",
    "# N\n",
    "# Example Output\n",
    "# Thank you for choosing Python Pizza Deliveries!\n",
    "# Your final bill is: $28.\n",
    "\n",
    "\n",
    "print(\"Thank you for choosing Python Pizza Deliveries!\")\n",
    "size = input() # What size pizza do you want? S, M, or L\n",
    "add_pepperoni = input() # Do you want pepperoni? Y or N\n",
    "extra_cheese = input() # Do you want extra cheese? Y or N\n",
    "# 🚨 Don't change the code above 👆\n",
    "# Write your code below this line 👇\n",
    "total = 0\n",
    "if size == \"S\":\n",
    "  total += 15\n",
    "elif size == \"M\":\n",
    "  total += 20\n",
    "else:\n",
    "  total += 25\n",
    "\n",
    "if add_pepperoni == \"Y\":\n",
    "  if size == \"S\":\n",
    "    total += 2\n",
    "  else:\n",
    "    total += 3\n",
    "\n",
    "if extra_cheese == \"Y\":\n",
    "  total += 1\n",
    "  \n",
    "\n",
    "print(f\"Your final bill is: ${total}.\")"
   ]
  },
  {
   "cell_type": "code",
   "execution_count": 9,
   "metadata": {},
   "outputs": [
    {
     "name": "stdout",
     "output_type": "stream",
     "text": [
      "The final price for each is: $62.19\n"
     ]
    }
   ],
   "source": [
    "#Bill Split + tips calculator\n",
    "\n",
    "#If the bill was $150.00, split between 5 people, with 12% tip. \n",
    "\n",
    "#Each person should pay (150.00 / 5) * 1.12 = 33.6\n",
    "#Format the result to 2 decimal places = 33.60\n",
    "\n",
    "##Tip: There are 2 ways to round a number. You might have to do some Googling to solve this.💪\n",
    "\n",
    "#Write your code below this line 👇\n",
    "\n",
    "bill = int(input(\"Wellcome to Spliter...just tel me bill price: $\"))\n",
    "people = int(input(\"How many people? \"))\n",
    "tip = int(input(\"How much percent of tip? %\"))\n",
    "tip_as_percent = tip/100\n",
    "total_tip_amount = bill * tip_as_percent\n",
    "total_bill = bill + total_tip_amount\n",
    "bill_per_person = total_bill / people\n",
    "final_amount = round(bill_per_person,2)\n",
    "final_amount = \"{:.2f}\".format(bill_per_person)\n",
    "print(f\"The final price for each is: ${final_amount}\")"
   ]
  },
  {
   "cell_type": "code",
   "execution_count": null,
   "metadata": {},
   "outputs": [],
   "source": [
    "print(\"The Love Calculator is calculating your score...\")\n",
    "name1 = input() # What is your name?\n",
    "name2 = input() # What is their name?\n",
    "# 🚨 Don't change the code above 👆\n",
    "# Write your code below this line 👇\n",
    "\n",
    "combined_names = name1 + name2\n",
    "lower_names = combined_names.lower()\n",
    "t = lower_names.count('t')\n",
    "r = lower_names.count('r')\n",
    "u = lower_names.count('u')\n",
    "e = lower_names.count('e')\n",
    "true = t + r + u + e\n",
    "l = lower_names.count('l')\n",
    "o = lower_names.count('o')\n",
    "v = lower_names.count('v')\n",
    "e = lower_names.count('e')\n",
    "love = l + o + v + e\n",
    "\n",
    "\n",
    "score = int(str(true) + str(love))\n",
    "\n",
    "\n",
    "if score < 10 or score > 90:\n",
    "  print(f\"Your score is {score}, you go together like coke and mentos.\")\n",
    "elif score >= 40 and score <= 50:\n",
    "  print(f\"Your score is {score}, you are alright together.\")\n",
    "else:\n",
    "  print(f\"Your score is {score}.\")"
   ]
  },
  {
   "cell_type": "code",
   "execution_count": 23,
   "metadata": {},
   "outputs": [
    {
     "name": "stdout",
     "output_type": "stream",
     "text": [
      "\n",
      "                                      o\n",
      "                            .-'\"|\n",
      "                            |-'\"|\n",
      "                                |   _.-'`.\n",
      "                               _|-\"'_.-'|.`.\n",
      "                              |:^.-'_.-'`.;.`.\n",
      "                              |::.'.   ,-'_.-'|\n",
      "                              |:::+.'-'.-: . J\n",
      "           __.            .d88|:+:::+-' _-, .|\n",
      "      _.--'_..`.    .d88888888|:||]:|, | J].J8b.\n",
      "   +:\" ,--'_.|`.`.d88888888888|-' J:| .| J|_|888b.\n",
      "   |:\\ \\-'_.--'_.-+888888888+'  _-K:F.+:    `88888bo.\n",
      "    L:\\ +'_.--'. .|88888+\"'  _.'.J:J.J:::.    +8888888b.\n",
      "    |:::+'. ._. . |8+\"'  _.-', . |:| |::::+    `+8888888._-'.\n",
      "  .d8J::L. ./ \\ .J' _.-: . . . ,|:|.|::::::.,   `+888+'^.-|.`.\n",
      " d888|::| . F  FL J-'. . , . , . F:F F::::::/`/  _.-\"_.-'_.+.`.`.\n",
      "d88888L::L .|  \\L. L. . , . . . J:J J::::::/`/::|. +'_.-'    `_+ `;\n",
      "888888J::|. K    \\.L . , . . _:-+:|.':::::/`/:::F::.`.     .-'_.-:J\n",
      "8888888|::L.L\\    \\|. . ._:-'     '   `::/`/:::J:::::.`..-'.-'. . |\n",
      "8888888PL:| |:\\    `._:-'               /`/::::|:|| \\::..-'. , . J.b\n",
      "8888888 |::L L:`.    \\     _.-+.       /`/`::::L+`'  |::| . . , .F88b\n",
      "8888888  L:|.|:::\\   _:.--'_.-|.`.    '`/   >-'     .J:J . , . .|8888b\n",
      "8888888  |::L.L:::+:\" _.--'_.-'.`.`.    _.-'    :\"|':|:|. . . .JY88888b\n",
      "8888888   L:| |::::|\\ \\_.-'     `.`.`.-'    :\"|-'. .J:J. . , . F Y88888b\n",
      "Y888888    \\:L L:::L:\\ `.      _.-'_.-+ :\"|-: . , . |:| , . , |   Y88888b\n",
      "`888888b    \\|.|:::|:::. \\ _.-'_.-: . |-', . . , . J:J . . . J     Y88888b\n",
      " Y888888     +'\\:::J::::\\ '_.-'. . . .F . .,-T`\\. .|:|. , ,-'      )888888\n",
      "  Y88888b.      \\:::L::::+. . , . . .J . ,/  |:J .J:J. ,-'        .d888888\n",
      "   Y888888b      \\::|::::| . . . , . |. . F  `:|,-'+|-'         .d88888888\n",
      "    Y888888b      \\:J::::|. . . . . .F , J    -:              .od88888888P\n",
      "     Y888888b      \\:L:::| . , . , .J . .| .' ` \\d8888888888888888888888P\n",
      "      Y888888b      \\|:::|. , . . , |. ,-'`.  `\\ `+88888888888888888888P\n",
      "       Y888888b.     J:::| . . , . .F-'     \\ ` \\ \\88888888888888888P'\n",
      "        Y8888888b     L::|, . . , .J       d8+.`\\  \\`+8888888888888P'\n",
      "         Y8888888b    |::| . , . ._+      d8888\\  ` .'  `Y888888P'\n",
      "         `88888888b   J::|. . ._-'     .od888888\\.-'\n",
      "          Y88888888b   \\:| ._-'     d888888888P'              ,==. o\n",
      "          `888888888b   \\|-'       d88888888'                 |/ \"'/L\n",
      "           `Y88888888b            d8888888P'                 ,-_) '<_\n",
      "             Y88888888bo.      .od88888888   hs               /^-._  \\=_\n",
      "             `8888888888888888888888888888                    `   (-'/ ~~\n",
      "              Y88888888888888888888888888P                    a:f  |                `Y8888888888888888888888P'                          `  `\n",
      "                 `Y8888888888888P'\n",
      "                      `Y88888P'\n",
      "      \n",
      "Welcome to Treasure Island.\n",
      "Your mission is to find the treasure.\n",
      "Fall into a hole. GAME OVER!\n"
     ]
    }
   ],
   "source": [
    "#TREASURE MAP\n",
    "\n",
    "print('''\n",
    "                                      o\n",
    "                            .-'\"|\n",
    "                            |-'\"|\n",
    "                                |   _.-'`.\n",
    "                               _|-\"'_.-'|.`.\n",
    "                              |:^.-'_.-'`.;.`.\n",
    "                              |::.'.   ,-'_.-'|\n",
    "                              |:::+.'-'.-: . J\n",
    "           __.            .d88|:+:::+-' _-, .|\n",
    "      _.--'_..`.    .d88888888|:||]:|, | J].J8b.\n",
    "   +:\" ,--'_.|`.`.d88888888888|-' J:| .| J|_|888b.\n",
    "   |:\\ \\-'_.--'_.-+888888888+'  _-K:F.+:    `88888bo.\n",
    "    L:\\ +'_.--'. .|88888+\"'  _.'.J:J.J:::.    +8888888b.\n",
    "    |:::+'. ._. . |8+\"'  _.-', . |:| |::::+    `+8888888._-'.\n",
    "  .d8J::L. ./ \\\\ .J' _.-: . . . ,|:|.|::::::.,   `+888+'^.-|.`.\n",
    " d888|::| . F  FL J-'. . , . , . F:F F::::::/`/  _.-\"_.-'_.+.`.`.\n",
    "d88888L::L .|  \\L. L. . , . . . J:J J::::::/`/::|. +'_.-'    `_+ `;\n",
    "888888J::|. K    \\.L . , . . _:-+:|.':::::/`/:::F::.`.     .-'_.-:J\n",
    "8888888|::L.L\\    \\|. . ._:-'     '   `::/`/:::J:::::.`..-'.-'. . |\n",
    "8888888PL:| |:\\    `._:-'               /`/::::|:|| \\::..-'. , . J.b\n",
    "8888888 |::L L:`.    \\     _.-+.       /`/`::::L+`'  |::| . . , .F88b\n",
    "8888888  L:|.|:::\\   _:.--'_.-|.`.    '`/   >-'     .J:J . , . .|8888b\n",
    "8888888  |::L.L:::+:\" _.--'_.-'.`.`.    _.-'    :\"|':|:|. . . .JY88888b\n",
    "8888888   L:| |::::|\\ \\_.-'     `.`.`.-'    :\"|-'. .J:J. . , . F Y88888b\n",
    "Y888888    \\:L L:::L:\\ `.      _.-'_.-+ :\"|-: . , . |:| , . , |   Y88888b\n",
    "`888888b    \\|.|:::|:::. \\ _.-'_.-: . |-', . . , . J:J . . . J     Y88888b\n",
    " Y888888     +'\\:::J::::\\ '_.-'. . . .F . .,-T`\\. .|:|. , ,-'      )888888\n",
    "  Y88888b.      \\:::L::::+. . , . . .J . ,/  |:J .J:J. ,-'        .d888888\n",
    "   Y888888b      \\::|::::| . . . , . |. . F  `:|,-'+|-'         .d88888888\n",
    "    Y888888b      \\:J::::|. . . . . .F , J    -:              .od88888888P\n",
    "     Y888888b      \\:L:::| . , . , .J . .| .' ` \\d8888888888888888888888P\n",
    "      Y888888b      \\|:::|. , . . , |. ,-'`.  `\\ `+88888888888888888888P\n",
    "       Y888888b.     J:::| . . , . .F-'     \\\\ ` \\ \\88888888888888888P'\n",
    "        Y8888888b     L::|, . . , .J       d8+.`\\  \\`+8888888888888P'\n",
    "         Y8888888b    |::| . , . ._+      d8888\\  ` .'  `Y888888P'\n",
    "         `88888888b   J::|. . ._-'     .od888888\\.-'\n",
    "          Y88888888b   \\:| ._-'     d888888888P'              ,==. o\n",
    "          `888888888b   \\|-'       d88888888'                 |/ \"'/L\n",
    "           `Y88888888b            d8888888P'                 ,-_) '<_\n",
    "             Y88888888bo.      .od88888888   hs               /^-._  \\=_\n",
    "             `8888888888888888888888888888                    `   (-'/ ~~\n",
    "              Y88888888888888888888888888P                    a:f  | \\\n",
    "               `Y8888888888888888888888P'                          `  `\n",
    "                 `Y8888888888888P'\n",
    "                      `Y88888P'\n",
    "      ''')\n",
    "\n",
    "print(\"Welcome to Treasure Island.\")\n",
    "print(\"Your mission is to find the treasure.\") \n",
    "\n",
    "#https://www.draw.io/?lightbox=1&highlight=0000ff&edit=_blank&layers=1&nav=1&title=Treasure%20Island%20Conditional.drawio#Uhttps%3A%2F%2Fdrive.google.com%2Fuc%3Fid%3D1oDe4ehjWZipYRsVfeAx2HyB7LCQ8_Fvi%26export%3Ddownload\n",
    "\n",
    "#Write your code below this line 👇\n",
    "first = input(\"Your are in a crossroad, go left or right?\").lower()\n",
    "if first == \"left\":\n",
    "    lake = input(\"Great choice, now you arive to a lake! Swim or Wait? \").lower()\n",
    "    if lake == \"wait\":\n",
    "      door = input(\"Clever choice, a boat arrived and crossed the river, now you have a RED, BLUE and YELLOW door to open, chose wisely!  \").lower()\n",
    "      if door == \"yellow\":\n",
    "        print(\"You win!\")\n",
    "      elif door == \"red\":\n",
    "        print = (\"Burned by fire. GAME OVER!\")\n",
    "      elif door == \"blue\":\n",
    "        print(\"Eaten by beasts. GAME OVER!\")\n",
    "      else:\n",
    "        print(\"GAME OVER!\")\n",
    "    else:\n",
    "      print(\"Attacked by a trout. GAME OVER!\")\n",
    "else:\n",
    "    print(\"Fall into a hole. GAME OVER!\")\n"
   ]
  },
  {
   "cell_type": "code",
   "execution_count": 24,
   "metadata": {},
   "outputs": [
    {
     "name": "stdout",
     "output_type": "stream",
     "text": [
      "4.720616373720297\n"
     ]
    }
   ],
   "source": [
    "#randon\n",
    "import random\n",
    "random_float = random.random() * 5 #\n",
    "print(random_float)"
   ]
  },
  {
   "cell_type": "code",
   "execution_count": 74,
   "metadata": {},
   "outputs": [
    {
     "data": {
      "image/png": "[encoded data removed]",
      "text/plain": [
       "<Figure size 640x480 with 1 Axes>"
      ]
     },
     "metadata": {},
     "output_type": "display_data"
    },
    {
     "name": "stdout",
     "output_type": "stream",
     "text": [
      "1\n"
     ]
    }
   ],
   "source": [
    "# COIN FLIP\n",
    "# Write your code below this line 👇\n",
    "# Hint: Remember to import the random module first. \n",
    "# import random\n",
    "\n",
    "# results = []\n",
    "# #coin = random.randint(0,1)\n",
    "\n",
    "# for i in range(100)\n",
    "#     if coin == 1:\n",
    "#         print(\"Heads\")\n",
    "#         results += coin.append\n",
    "#     else:\n",
    "#         print(\"Tails\")\n",
    "        # results += coin.append\n",
    "\n",
    "import random\n",
    "\n",
    "results = []\n",
    "for i in range(999):\n",
    "    #coin = random.choice([\"Heads\", \"Tails\"])\n",
    "    coin = random.randint(0,1)\n",
    "    if coin == 1:\n",
    "        results.append(coin)\n",
    "    else:\n",
    "        results.append(coin)\n",
    "        \n",
    "import matplotlib.pyplot as plt\n",
    "\n",
    "# Count the number of heads and tails in the results\n",
    "heads = results.count(1)\n",
    "tails = results.count(0)\n",
    "\n",
    "# Create a bar chart with the labels and values\n",
    "plt.bar([\"Heads\", \"Tails\"], [heads, tails])\n",
    "\n",
    "# Add a title and axis labels\n",
    "plt.title(\"Coin Flip Results\")\n",
    "plt.xlabel(\"Outcome\")\n",
    "plt.ylabel(\"Frequency\")\n",
    "\n",
    "# Display the graph\n",
    "plt.show()\n",
    "\n"
   ]
  },
  {
   "cell_type": "code",
   "execution_count": 109,
   "metadata": {},
   "outputs": [
    {
     "data": {
      "image/png": "[encoded data removed]",
      "text/plain": [
       "<Figure size 640x480 with 1 Axes>"
      ]
     },
     "metadata": {},
     "output_type": "display_data"
    }
   ],
   "source": [
    "# CHOSE A NAME RANDONLY \n",
    "names_string = \"marcio, rafael, ricardo, eduardo, monica, vanessa, eduarda, priscila\"\n",
    "names = names_string.split(\", \")\n",
    "# The code above converts the input into an array seperating\n",
    "#each name in the input by a comma and space.\n",
    "# 🚨 Don't change the code above 👆\n",
    "import random\n",
    "people = len(names)\n",
    "\n",
    "# Create a list to store the names of the payers\n",
    "names_list = []\n",
    "for i in range(999):\n",
    "    pay_the_bill = names[random.randint(0,people - 1)]\n",
    "    #print(f\"{pay_the_bill} is going to buy the meal today!\")\n",
    "    names_list.append(pay_the_bill)\n",
    "\n",
    "import matplotlib.pyplot as plt\n",
    "\n",
    "# Create a dictionary to store the counts of each name\n",
    "name_counts = {}\n",
    "for name in names:\n",
    "  name_counts[name] = names_list.count(name)\n",
    "\n",
    "# Create a bar chart with the names and the counts\n",
    "plt.bar(name_counts.keys(), name_counts.values())\n",
    "\n",
    "# Add a title and axis labels\n",
    "plt.title(\"Meal Payers Game Results\")\n",
    "plt.xlabel(\"Name\")\n",
    "plt.ylabel(\"Number of Times Paying\")\n",
    "\n",
    "# Display the graph\n",
    "plt.show()"
   ]
  },
  {
   "cell_type": "code",
   "execution_count": 128,
   "metadata": {},
   "outputs": [
    {
     "name": "stdout",
     "output_type": "stream",
     "text": [
      "ricardo\n",
      "marcio\n"
     ]
    }
   ],
   "source": [
    "names1 = names\n",
    "names2 = names\n",
    "all = [names , names1 , names2]\n",
    "print(all[0][2])\n",
    "print(names[0])"
   ]
  },
  {
   "cell_type": "code",
   "execution_count": 2,
   "metadata": {},
   "outputs": [
    {
     "name": "stdout",
     "output_type": "stream",
     "text": [
      "Hiding your treasure! X marks the spot.\n",
      "['X', '️⬜️', '️⬜️']\n",
      "['⬜️', '⬜️', '️⬜️']\n",
      "['⬜️️', '⬜️️', '⬜️️']\n"
     ]
    }
   ],
   "source": [
    "#TREASURE MAP\n",
    "\n",
    "line1 = [\"⬜️\",\"️⬜️\",\"️⬜️\"]\n",
    "line2 = [\"⬜️\",\"⬜️\",\"️⬜️\"]\n",
    "line3 = [\"⬜️️\",\"⬜️️\",\"⬜️️\"]\n",
    "map = [line1, line2, line3]\n",
    "print(\"Hiding your treasure! X marks the spot.\")\n",
    "position = input() # Where do you want to put the treasure?\n",
    "# 🚨 Don't change the code above 👆\n",
    "# Write your code below this row 👇\n",
    "column = int(position[1]) -1\n",
    "row = position[0]\n",
    "if row == 'A':\n",
    "  row = 0\n",
    "elif row == 'B':\n",
    "  row = 1\n",
    "else:\n",
    "  row = 2\n",
    "\n",
    "\n",
    "\n",
    "map[column][row] = \"X\"\n",
    "# Write your code above this row 👆\n",
    "# 🚨 Don't change the code below 👇\n",
    "print(f\"{line1}\\n{line2}\\n{line3}\")"
   ]
  },
  {
   "cell_type": "code",
   "execution_count": 3,
   "metadata": {},
   "outputs": [
    {
     "name": "stdout",
     "output_type": "stream",
     "text": [
      "Hiding your treasure! X marks the spot.\n",
      "['X', '️⬜️', '️⬜️']\n",
      "['⬜️', '⬜️', '️⬜️']\n",
      "['⬜️️', '⬜️️', '⬜️️']\n"
     ]
    }
   ],
   "source": [
    "#treasure map(COURSE SOLUTION)\n",
    "line1 = [\"⬜️\",\"️⬜️\",\"️⬜️\"]\n",
    "line2 = [\"⬜️\",\"⬜️\",\"️⬜️\"]\n",
    "line3 = [\"⬜️️\",\"⬜️️\",\"⬜️️\"]\n",
    "map = [line1, line2, line3]\n",
    "print(\"Hiding your treasure! X marks the spot.\")\n",
    "position = input('whre the tresure? ABC,123') # Where do you want to put the treasure?\n",
    "# Your code below\n",
    "letter = position[0].lower()\n",
    "abc = [\"a\", \"b\", \"c\"]\n",
    "letter_index = abc.index(letter)\n",
    "number_index = int(position[1]) - 1\n",
    "map[number_index][letter_index] = \"X\"\n",
    "\n",
    "print(f\"{line1}\\n{line2}\\n{line3}\")"
   ]
  },
  {
   "cell_type": "code",
   "execution_count": 5,
   "metadata": {},
   "outputs": [
    {
     "data": {
      "text/plain": [
       "'opposite machine'"
      ]
     },
     "execution_count": 5,
     "metadata": {},
     "output_type": "execute_result"
    }
   ],
   "source": [
    "#coding exercise / decodify the code(GPT4)\n",
    "\n",
    "\n",
    "# Given the task, let's create a Python function that decodes the message from the provided file content.\n",
    "\n",
    "def decode_message(file_path):\n",
    "    # Read the file content\n",
    "    with open(file_path, 'r') as file:\n",
    "        lines = file.readlines()\n",
    "\n",
    "    # The dictionary to hold the word corresponding to the number in its 'pyramid' line\n",
    "    pyramid_dict = {}\n",
    "\n",
    "    # Current expected line number in the pyramid\n",
    "    current_line_number = 1\n",
    "\n",
    "    # Process each line in the file\n",
    "    for line in lines:\n",
    "        number, word = line.split()\n",
    "        number = int(number)\n",
    "\n",
    "        # If the number matches the current expected line number, store the word\n",
    "        if number == current_line_number:\n",
    "            pyramid_dict[current_line_number] = word\n",
    "            current_line_number += 1\n",
    "\n",
    "    # Join the words in the order of the pyramid line numbers to form the message\n",
    "    decoded_message = ' '.join(pyramid_dict[i] for i in sorted(pyramid_dict.keys()))\n",
    "    return decoded_message\n",
    "\n",
    "# Let's call the function with the path to the uploaded text file\n",
    "file_path = 'coding_qual_input.txt'\n",
    "message = decode_message(file_path)\n",
    "message "
   ]
  },
  {
   "cell_type": "code",
   "execution_count": 13,
   "metadata": {},
   "outputs": [
    {
     "data": {
      "text/plain": [
       "'opposite sun rain think ocean to winter wild it ready buy card possible would electric stay post paragraph produce state our compare touch possible'"
      ]
     },
     "execution_count": 13,
     "metadata": {},
     "output_type": "execute_result"
    }
   ],
   "source": [
    "#BARD VERSION\n",
    "\n",
    "def decode(message_file):\n",
    "  \"\"\"Decodes a hidden message from a text file based on a pyramid structure.\n",
    "\n",
    "  Args:\n",
    "    message_file: The path to the text file containing the encoded message.\n",
    "\n",
    "  Returns:\n",
    "    The decoded message as a string.\n",
    "  \"\"\"\n",
    "\n",
    "  with open(message_file, 'r') as file:\n",
    "    lines = file.readlines()\n",
    "\n",
    "  number_word_pairs = {int(line.split()[0]): line.split()[1].strip() for line in lines}\n",
    "  pyramid_end_numbers = set()\n",
    "  current_line = 1\n",
    "  current_num = 1\n",
    "  while current_num <= max(number_word_pairs.keys()):\n",
    "    pyramid_end_numbers.add(current_num)\n",
    "    current_line += 1\n",
    "    current_num += current_line\n",
    "\n",
    "  decoded_message = ' '.join(\n",
    "      number_word_pairs[num] for num in sorted(pyramid_end_numbers) if num in number_word_pairs)\n",
    "  return decoded_message\n",
    "\n",
    "decode(\"coding_qual_input.txt\")"
   ]
  },
  {
   "cell_type": "code",
   "execution_count": 28,
   "metadata": {},
   "outputs": [
    {
     "name": "stdout",
     "output_type": "stream",
     "text": [
      "you chose:\n",
      "\n",
      "    _______\n",
      "---'   ____)____\n",
      "          ______)\n",
      "       __________)\n",
      "      (____)\n",
      "---.__(___)\n",
      "\n",
      "Computer chose: \n",
      "\n",
      "    _______\n",
      "---'   ____)____\n",
      "          ______)\n",
      "          _______)\n",
      "         _______)\n",
      "---.__________)\n",
      "\n",
      "You win!\n"
     ]
    }
   ],
   "source": [
    "#ROCK PAPPER SCISSORS\n",
    "\n",
    "#rules:\n",
    "#papper win rock\n",
    "#rock win scissors\n",
    "#scissors win papper\n",
    "\n",
    "rock = '''\n",
    "    _______\n",
    "---'   ____)\n",
    "      (_____)\n",
    "      (_____)\n",
    "      (____)\n",
    "---.__(___)\n",
    "'''\n",
    "\n",
    "paper = '''\n",
    "    _______\n",
    "---'   ____)____\n",
    "          ______)\n",
    "          _______)\n",
    "         _______)\n",
    "---.__________)\n",
    "'''\n",
    "\n",
    "scissors = '''\n",
    "    _______\n",
    "---'   ____)____\n",
    "          ______)\n",
    "       __________)\n",
    "      (____)\n",
    "---.__(___)\n",
    "'''\n",
    "\n",
    "#Write your code below this line 👇\n",
    "\n",
    "import random\n",
    "\n",
    "game_images = [rock, paper, scissors]\n",
    "\n",
    "\n",
    "user = int(input(\"1LET's PLAY! Type 0 for ROCK, 1 for PAPPER and 2 for SCISSORS\"))\n",
    "\n",
    "if user >= 3 or user < 0:\n",
    "    print('You typed invalid numbers!')\n",
    "else:\n",
    "    print('you chose:')\n",
    "    print(game_images[user])\n",
    "\n",
    "\n",
    "cpu = random.randint(0,2)\n",
    "print('Computer chose: ' ,)\n",
    "print(game_images[cpu])  \n",
    "\n",
    "\n",
    "#COMPARING\n",
    "\n",
    "if user == 0 and cpu == 2:\n",
    "    print(\"You win!\")\n",
    "elif cpu == 0 and  user == 2:\n",
    "    print(\"You Lose!\")\n",
    "elif cpu > user:\n",
    "    print(\"You lose!\")\n",
    "elif user > cpu:\n",
    "    print(\"You win!\")\n",
    "elif cpu == user:\n",
    "    print(\"Its a draw!\")\n"
   ]
  },
  {
   "cell_type": "code",
   "execution_count": 29,
   "metadata": {},
   "outputs": [
    {
     "name": "stdout",
     "output_type": "stream",
     "text": [
      "total height = 661\n",
      "number of students = 4\n",
      "average height = 165\n"
     ]
    }
   ],
   "source": [
    "#Average height with for loops withou using len() or sum()\n",
    "# Input a Python list of student heights\n",
    "student_heights = input(\"Insert student heights: ex: 151 145 179 186\").split()\n",
    "for n in range(0, len(student_heights)):\n",
    "  student_heights[n] = int(student_heights[n])\n",
    "# 🚨 Don't change the code above 👆\n",
    "  \n",
    "# Write your code below this row 👇\n",
    "number = 0  # get the number of input data without using len()\n",
    "for student in student_heights:\n",
    "  number += 1\n",
    "\n",
    "total = 0 #sum all values without sum()\n",
    "for i in student_heights:\n",
    "  total+=i\n",
    "\n",
    "print(f\"total height = {total}\")\n",
    "print(f\"number of students = {number}\")\n",
    "print(f\"average height = {round(total /number)}\")"
   ]
  },
  {
   "cell_type": "code",
   "execution_count": 30,
   "metadata": {},
   "outputs": [
    {
     "name": "stdout",
     "output_type": "stream",
     "text": [
      "The highest score in the class is: 99\n"
     ]
    }
   ],
   "source": [
    "# Input a list of student scores, fin the higher value without using MAX() or MIN()\n",
    "student_scores = input(\"Sample: 78 65 89 86 55 91 64 89\").split()\n",
    "for n in range(0, len(student_scores)):\n",
    "  student_scores[n] = int(student_scores[n])\n",
    "\n",
    "# Write your code below this row 👇\n",
    "\n",
    "highest = 0\n",
    "for score in student_scores:\n",
    "    if score > highest:\n",
    "      highest = score\n",
    "\n",
    "print(f\"The highest score in the class is: {highest}\")"
   ]
  },
  {
   "cell_type": "code",
   "execution_count": 31,
   "metadata": {},
   "outputs": [
    {
     "name": "stdout",
     "output_type": "stream",
     "text": [
      "42\n"
     ]
    }
   ],
   "source": [
    "#use for loop and range(start, stop, step) to find the sum of even numbers from 2 until the target input()\n",
    "\n",
    "target = int(input()) # Enter a number between 0 and 1000\n",
    "# 🚨 Do not change the code above ☝️\n",
    "\n",
    "# # Write your code here 👇\n",
    "\n",
    "\n",
    "number = 0 \n",
    "for i in range(2,target+1,2): \n",
    "   number += i\n",
    "\n",
    "print(number)"
   ]
  },
  {
   "cell_type": "code",
   "execution_count": 1,
   "metadata": {},
   "outputs": [
    {
     "name": "stdout",
     "output_type": "stream",
     "text": [
      "1\n",
      "2\n",
      "Fizz\n",
      "4\n",
      "Buzz\n",
      "Fizz\n",
      "7\n",
      "8\n",
      "Fizz\n",
      "Buzz\n",
      "11\n",
      "Fizz\n",
      "13\n",
      "14\n",
      "FizzBuzz\n",
      "16\n",
      "17\n",
      "Fizz\n",
      "19\n",
      "Buzz\n",
      "Fizz\n",
      "22\n",
      "23\n",
      "Fizz\n",
      "Buzz\n",
      "26\n",
      "Fizz\n",
      "28\n",
      "29\n",
      "FizzBuzz\n",
      "31\n",
      "32\n",
      "Fizz\n",
      "34\n",
      "Buzz\n",
      "Fizz\n",
      "37\n",
      "38\n",
      "Fizz\n",
      "Buzz\n",
      "41\n",
      "Fizz\n",
      "43\n",
      "44\n",
      "FizzBuzz\n",
      "46\n",
      "47\n",
      "Fizz\n",
      "49\n",
      "Buzz\n",
      "Fizz\n",
      "52\n",
      "53\n",
      "Fizz\n",
      "Buzz\n",
      "56\n",
      "Fizz\n",
      "58\n",
      "59\n",
      "FizzBuzz\n",
      "61\n",
      "62\n",
      "Fizz\n",
      "64\n",
      "Buzz\n",
      "Fizz\n",
      "67\n",
      "68\n",
      "Fizz\n",
      "Buzz\n",
      "71\n",
      "Fizz\n",
      "73\n",
      "74\n",
      "FizzBuzz\n",
      "76\n",
      "77\n",
      "Fizz\n",
      "79\n",
      "Buzz\n",
      "Fizz\n",
      "82\n",
      "83\n",
      "Fizz\n",
      "Buzz\n",
      "86\n",
      "Fizz\n",
      "88\n",
      "89\n",
      "FizzBuzz\n",
      "91\n",
      "92\n",
      "Fizz\n",
      "94\n",
      "Buzz\n",
      "Fizz\n",
      "97\n",
      "98\n",
      "Fizz\n",
      "Buzz\n"
     ]
    }
   ],
   "source": [
    "# Write your code here 👇\n",
    "# 1 to 100 Fizz, Buzz game\n",
    "# if number divisible by 3 is Fuzz\n",
    "# if number is  divisible by 5 is Buzz\n",
    "# if number is divisible by 3 and 5 is FizzBuzz\n",
    "\n",
    "target = 100\n",
    "for number in range(1, target + 1):\n",
    "   # always do the most unique fist, if was not fist would be pass by the other conditions\n",
    "  if number % 3 == 0 and number % 5 == 0:  \n",
    "    print(\"FizzBuzz\")\n",
    "  elif number % 3 == 0:\n",
    "    print(\"Fizz\")\n",
    "  elif number % 5 == 0:\n",
    "    print(\"Buzz\")\n",
    "  else:\n",
    "    print(number) \n",
    "    "
   ]
  },
  {
   "cell_type": "code",
   "execution_count": 42,
   "metadata": {},
   "outputs": [
    {
     "name": "stdout",
     "output_type": "stream",
     "text": [
      "Welcome to the PyPassword Generator!\n",
      "IzQ821%%&\n",
      "%z8I1%Q&2\n"
     ]
    }
   ],
   "source": [
    "#Password Generator Project\n",
    "import random\n",
    "letters = ['a', 'b', 'c', 'd', 'e', 'f', 'g', 'h', 'i', 'j', 'k', 'l', 'm', 'n', 'o', 'p', 'q', 'r', 's', 't', 'u', 'v', 'w', 'x', 'y', 'z', 'A', 'B', 'C', 'D', 'E', 'F', 'G', 'H', 'I', 'J', 'K', 'L', 'M', 'N', 'O', 'P', 'Q', 'R', 'S', 'T', 'U', 'V', 'W', 'X', 'Y', 'Z']\n",
    "numbers = ['0', '1', '2', '3', '4', '5', '6', '7', '8', '9']\n",
    "symbols = ['!', '#', '$', '%', '&', '(', ')', '*', '+']\n",
    "\n",
    "print(\"Welcome to the PyPassword Generator!\")\n",
    "nr_letters= int(input(\"How many letters would you like in your password?\\n\")) \n",
    "nr_symbols = int(input(f\"How many symbols would you like?\\n\"))\n",
    "nr_numbers = int(input(f\"How many numbers would you like?\\n\"))\n",
    "\n",
    "#Eazy Level - Order not randomised:\n",
    "#e.g. 4 letter, 2 symbol, 2 number = JduE&!91\n",
    "easy_password = \"\"\n",
    "#letters\n",
    "for i in range(nr_letters):\n",
    "    for password in random.choice(letters):\n",
    "        easy_password += password\n",
    "\n",
    "#numbers\n",
    "for i in range(nr_numbers):\n",
    "    for password in random.choice(numbers):\n",
    "        easy_password += password\n",
    "\n",
    "#symbols\n",
    "for i in range(nr_symbols):\n",
    "    for password in random.choice(symbols):\n",
    "        easy_password += password\n",
    "        \n",
    "print(easy_password)\n",
    "    \n",
    "\n",
    "\n",
    "#Hard Level - Order of characters randomised:\n",
    "#e.g. 4 letter, 2 symbol, 2 number = g^2jk8&P\n",
    "\n",
    "# Convert the string to a list of characters\n",
    "char_list = list(easy_password)\n",
    "\n",
    "# Shuffle the list in place\n",
    "random.shuffle(char_list)\n",
    "\n",
    "# Join the characters back into a string\n",
    "hard_password = ''.join(char_list)\n",
    "        \n",
    "print(hard_password)"
   ]
  },
  {
   "cell_type": "code",
   "execution_count": 47,
   "metadata": {},
   "outputs": [
    {
     "name": "stdout",
     "output_type": "stream",
     "text": [
      "Hello\n",
      "5\n",
      "bringnet\n",
      "bye\n"
     ]
    }
   ],
   "source": [
    "#functions\n",
    "\n",
    "print(\"Hello\")\n",
    "num_char = (len(\"Hello\"))\n",
    "print(num_char)\n",
    "\n",
    "def my_function(n): # create a function\n",
    "    print(n)\n",
    "    print(\"bye\")\n",
    "\n",
    "my_function(\"bringnet\") # activate our function"
   ]
  },
  {
   "cell_type": "code",
   "execution_count": 48,
   "metadata": {},
   "outputs": [
    {
     "ename": "NameError",
     "evalue": "name 'move' is not defined",
     "output_type": "error",
     "traceback": [
      "\u001b[1;31m---------------------------------------------------------------------------\u001b[0m",
      "\u001b[1;31mNameError\u001b[0m                                 Traceback (most recent call last)",
      "Cell \u001b[1;32mIn[48], line 17\u001b[0m\n\u001b[0;32m     14\u001b[0m     turn_left()\n\u001b[0;32m     16\u001b[0m \u001b[38;5;28;01mfor\u001b[39;00m i \u001b[38;5;129;01min\u001b[39;00m \u001b[38;5;28mrange\u001b[39m(\u001b[38;5;241m6\u001b[39m):\n\u001b[1;32m---> 17\u001b[0m     \u001b[43mjump\u001b[49m\u001b[43m(\u001b[49m\u001b[43m)\u001b[49m\n",
      "Cell \u001b[1;32mIn[48], line 7\u001b[0m, in \u001b[0;36mjump\u001b[1;34m()\u001b[0m\n\u001b[0;32m      6\u001b[0m \u001b[38;5;28;01mdef\u001b[39;00m \u001b[38;5;21mjump\u001b[39m():\n\u001b[1;32m----> 7\u001b[0m     \u001b[43mmove\u001b[49m()\n\u001b[0;32m      8\u001b[0m     turn_left()\n\u001b[0;32m      9\u001b[0m     move()\n",
      "\u001b[1;31mNameError\u001b[0m: name 'move' is not defined"
     ]
    }
   ],
   "source": [
    "# FOR LOOP (hurdle 1)\n",
    "#https://reeborg.ca/reeborg.html?lang=en&mode=python&menu=worlds%2Fmenus%2Freeborg_intro_en.json&name=Hurdle%201&url=worlds%2Ftutorial_en%2Fhurdle1.json\n",
    "def turn_right():\n",
    "    turn_left()\n",
    "    turn_left()\n",
    "    turn_left()\n",
    "\n",
    "def jump():\n",
    "    move()\n",
    "    turn_left()\n",
    "    move()\n",
    "    turn_right()\n",
    "    move()\n",
    "    turn_right()\n",
    "    move()\n",
    "    turn_left()\n",
    "\n",
    "for i in range(6):\n",
    "    jump()\n",
    "    \n",
    "    \n",
    "# WHILE LOOP option\n",
    "number_of_hurdles = 6\n",
    "while number_of_hurdles > 0:\n",
    "    jump()\n",
    "    number_of_hurdles -= 1\n",
    "    print(number_of_hurdles)\n"
   ]
  },
  {
   "cell_type": "code",
   "execution_count": 51,
   "metadata": {},
   "outputs": [
    {
     "name": "stdout",
     "output_type": "stream",
     "text": [
      "Bye\n"
     ]
    }
   ],
   "source": [
    "# WHILE LOOP (hurdle 2)\n",
    "# https://reeborg.ca/reeborg.html?lang=en&mode=python&menu=worlds%2Fmenus%2Freeborg_intro_en.json&name=Hurdle%202&url=worlds%2Ftutorial_en%2Fhurdle2.json\n",
    "def turn_right():\n",
    "    turn_left()\n",
    "    turn_left()\n",
    "    turn_left()\n",
    "\n",
    "def jump():\n",
    "    move()\n",
    "    turn_left()\n",
    "    move()\n",
    "    turn_right()\n",
    "    move()\n",
    "    turn_right()\n",
    "    move()\n",
    "    turn_left()\n",
    "\n",
    "# while at_goal() == False:    # other options\n",
    "# while at_goal() != True:    \n",
    "while note at_goal():\n",
    "    jump()"
   ]
  },
  {
   "cell_type": "code",
   "execution_count": null,
   "metadata": {},
   "outputs": [],
   "source": [
    "# WHILE LOOP (hurdle 3)\n",
    "# https://reeborg.ca/reeborg.html?lang=en&mode=python&menu=worlds%2Fmenus%2Freeborg_intro_en.json&name=Hurdle%203&url=worlds%2Ftutorial_en%2Fhurdle3.json\n",
    "def turn_right():\n",
    "    turn_left()\n",
    "    turn_left()\n",
    "    turn_left()\n",
    "\n",
    "def jump():\n",
    "   #move()\n",
    "    turn_left()\n",
    "    move()\n",
    "    turn_right()\n",
    "    move()\n",
    "    turn_right()\n",
    "    move()\n",
    "    turn_left()\n",
    "\n",
    "while not at_goal():\n",
    "    if wall_in_front():\n",
    "        jump()\n",
    "    else:\n",
    "        move()\n",
    "    "
   ]
  },
  {
   "cell_type": "code",
   "execution_count": null,
   "metadata": {},
   "outputs": [],
   "source": [
    "# WHILE LOOP (hurdle 4) hard mode\n",
    "# https://reeborg.ca/reeborg.html?lang=en&mode=python&menu=worlds%2Fmenus%2Freeborg_intro_en.json&name=Hurdle%204&url=worlds%2Ftutorial_en%2Fhurdle4.json\n",
    "\n",
    "def turn_right():\n",
    "    turn_left()\n",
    "    turn_left()\n",
    "    turn_left()\n",
    "\n",
    "def jump():\n",
    "    turn_left()\n",
    "    while wall_on_right(): \n",
    "        move()\n",
    "    turn_right()\n",
    "    move()\n",
    "    turn_right()\n",
    "    while front_is_clear():\n",
    "        move()\n",
    "    turn_left()\n",
    "\n",
    "while not at_goal():\n",
    "    if wall_in_front():\n",
    "        jump()\n",
    "    else:\n",
    "        move()\n",
    "    "
   ]
  },
  {
   "cell_type": "markdown",
   "metadata": {},
   "source": [
    "RETURN TO THE MAZE PROBLEM AFTER FINISH DAY 15"
   ]
  },
  {
   "cell_type": "code",
   "execution_count": null,
   "metadata": {},
   "outputs": [],
   "source": [
    "# MAZE FINAL PROJECT(return after finish day 15)\n",
    "# https://reeborg.ca/reeborg.html?lang=en&mode=python&menu=worlds%2Fmenus%2Freeborg_intro_en.json&name=Maze&url=worlds%2Ftutorial_en%2Fmaze1.json\n",
    "\n",
    "def turn_right():\n",
    "    turn_left()\n",
    "    turn_left()\n",
    "    turn_left()\n",
    "\n",
    "while not front_is_clear():\n",
    "    move()\n",
    "turn_left()\n",
    "\n",
    "while not at_goal():\n",
    "    if right_is_clear():\n",
    "        turn_right()\n",
    "        move()\n",
    "    elif front_is_clear():\n",
    "        move()\n",
    "    else:\n",
    "        turn_left()"
   ]
  },
  {
   "cell_type": "code",
   "execution_count": 11,
   "metadata": {},
   "outputs": [
    {
     "name": "stdout",
     "output_type": "stream",
     "text": [
      "Pssst, the solution is camel.\n",
      "c _ _ _ _\n",
      "\n",
      "  +---+\n",
      "  |   |\n",
      "      |\n",
      "      |\n",
      "      |\n",
      "      |\n",
      "=========\n",
      "\n",
      "c a _ _ _\n",
      "\n",
      "  +---+\n",
      "  |   |\n",
      "      |\n",
      "      |\n",
      "      |\n",
      "      |\n",
      "=========\n",
      "\n",
      "c a m _ _\n",
      "\n",
      "  +---+\n",
      "  |   |\n",
      "      |\n",
      "      |\n",
      "      |\n",
      "      |\n",
      "=========\n",
      "\n",
      "c a m e _\n",
      "\n",
      "  +---+\n",
      "  |   |\n",
      "      |\n",
      "      |\n",
      "      |\n",
      "      |\n",
      "=========\n",
      "\n",
      "c a m e _\n",
      "\n",
      "  +---+\n",
      "  |   |\n",
      "  O   |\n",
      "      |\n",
      "      |\n",
      "      |\n",
      "=========\n",
      "\n",
      "c a m e _\n",
      "\n",
      "  +---+\n",
      "  |   |\n",
      "  O   |\n",
      "  |   |\n",
      "      |\n",
      "      |\n",
      "=========\n",
      "\n",
      "c a m e l\n",
      "You win.\n",
      "\n",
      "  +---+\n",
      "  |   |\n",
      "  O   |\n",
      "  |   |\n",
      "      |\n",
      "      |\n",
      "=========\n",
      "\n"
     ]
    }
   ],
   "source": [
    "# HANGING MAN\n",
    "#Step 5\n",
    "\n",
    "import random\n",
    "\n",
    "#TODO-1: - Update the word list to use the 'word_list' from hangman_words.py\n",
    "#Delete this line: word_list = [\"ardvark\", \"baboon\", \"camel\"]\n",
    "chosen_word = random.choice(word_list)\n",
    "word_length = len(chosen_word)\n",
    "\n",
    "end_of_game = False\n",
    "lives = 6\n",
    "\n",
    "#TODO-3: - Import the logo from hangman_art.py and print it at the start of the game.\n",
    "\n",
    "#Testing code\n",
    "print(f'Pssst, the solution is {chosen_word}.')\n",
    "\n",
    "#Create blanks\n",
    "display = []\n",
    "for _ in range(word_length):\n",
    "    display += \"_\"\n",
    "\n",
    "while not end_of_game:\n",
    "    guess = input(\"Guess a letter: \").lower()\n",
    "\n",
    "    #TODO-4: - If the user has entered a letter they've already guessed, print the letter and let them know.\n",
    "\n",
    "    #Check guessed letter\n",
    "    for position in range(word_length):\n",
    "        letter = chosen_word[position]\n",
    "        print(f\"Current position: {position}\\n Current letter: {letter}\\n Guessed letter: {guess}\")\n",
    "        if letter == guess:\n",
    "            display[position] = letter\n",
    "\n",
    "    #Check if user is wrong.\n",
    "    if guess not in chosen_word:\n",
    "        #TODO-5: - If the letter is not in the chosen_word, print out the letter and let them know it's not in the word.\n",
    "        lives -= 1\n",
    "        if lives == 0:\n",
    "            end_of_game = True\n",
    "            print(\"You lose.\")\n",
    "\n",
    "    #Join all the elements in the list and turn it into a String.\n",
    "    print(f\"{' '.join(display)}\")\n",
    "\n",
    "    #Check if user has got all letters.\n",
    "    if \"_\" not in display:\n",
    "        end_of_game = True\n",
    "        print(\"You win.\")\n",
    "\n",
    "    #TODO-2: - Import the stages from hangman_art.py and make this error go away.\n",
    "    print(stages[lives])"
   ]
  },
  {
   "cell_type": "code",
   "execution_count": 12,
   "metadata": {},
   "outputs": [
    {
     "name": "stdout",
     "output_type": "stream",
     "text": [
      "Hi Julian!\n",
      "How's is Cidade Maravilhosa?\n"
     ]
    }
   ],
   "source": [
    "def greet(name, location):\n",
    "    print(f\"Hi {name}!\")\n",
    "    print(f\"How's is {location}?\")\n",
    "\n",
    "greet(location=\"Cidade Maravilhosa\", name=\"Julian\")"
   ]
  },
  {
   "cell_type": "code",
   "execution_count": null,
   "metadata": {},
   "outputs": [],
   "source": [
    "# paint cans calculator /// solution to round number anything higher them zero, for example 1.2 cans of paint, if uses normal round() he'll give you 1 can, but we need TWO.\n",
    "\n",
    "# Write your code below this line 👇\n",
    "\n",
    "\n",
    "import math # this function helps with that\n",
    "\n",
    "# Write your code above this line 👆\n",
    "# Define a function called paint_calc() so the code below works.   \n",
    "def paint_calc(height,width,cover):\n",
    "  cans = math.ceil(height * width/coverage)   #math.ceil Rounds UP anything higher then 0\n",
    "  print(f\"You'll need {cans} cans of paint.\")\n",
    "# 🚨 Don't change the code below 👇\n",
    "test_h = int(input()) # Height of wall (m)\n",
    "test_w = int(input()) # Width of wall (m)\n",
    "coverage = 5\n",
    "paint_calc(height=test_h, width=test_w, cover=coverage)\n"
   ]
  },
  {
   "cell_type": "code",
   "execution_count": 13,
   "metadata": {},
   "outputs": [
    {
     "name": "stdout",
     "output_type": "stream",
     "text": [
      "It's a prime number.\n"
     ]
    }
   ],
   "source": [
    "# prime numbers checker, only can be divided by thenselves or 1 and no other numbers\n",
    "\n",
    "\n",
    "# Write your code below this line 👇\n",
    "\n",
    "def prime_checker(number):\n",
    "  is_prime = True\n",
    "  for i in range(2, number):  # genious is forcing to calculate if divisible starting from 2  until the input number  and if one number is wrong already close the\n",
    "    if number % i == 0:\n",
    "      is_prime = False\n",
    "  if is_prime:\n",
    "      print(\"It's a prime number.\")\n",
    "  else:\n",
    "      print(\"It's not a prime number.\")\n",
    "    \n",
    "        \n",
    "# Write your code above this line 👆\n",
    "    \n",
    "#Do NOT change any of the code below👇\n",
    "n = int(input()) # Check this number\n",
    "prime_checker(number=n)\n"
   ]
  },
  {
   "cell_type": "code",
   "execution_count": 40,
   "metadata": {},
   "outputs": [
    {
     "name": "stdout",
     "output_type": "stream",
     "text": [
      "           \n",
      " ,adPPYba, ,adPPYYba,  ,adPPYba, ,adPPYba, ,adPPYYba, 8b,dPPYba,  \n",
      "a8\"     \"\" \"\"     `Y8 a8P_____88 I8[    \"\" \"\"     `Y8 88P'   \"Y8  \n",
      "8b         ,adPPPPP88 8PP\"  `\"Y8ba,  ,adPPPPP88 88          \n",
      "\"8a,   ,aa 88,    ,88 \"8b,   ,aa aa    ]8I 88,    ,88 88          \n",
      " `\"Ybbd8\"' `\"8bbdP\"Y8  `\"Ybbd8\"' `\"YbbdP\"' `\"8bbdP\"Y8 88   \n",
      "            88             88                                 \n",
      "           \"\"             88                                 \n",
      "                          88                                 \n",
      " ,adPPYba, 88 8b,dPPYba,  88,dPPYba,   ,adPPYba, 8b,dPPYba,  \n",
      "a8\"     \"\" 88 88P'    \"8a 88P'    \"8a a8P_____88 88P'   \"Y8  \n",
      "8b         88 88       d8 88       88 8PP\" 88          \n",
      "\"8a,   ,aa 88 88b,   ,a8\" 88       88 \"8b,   ,aa 88          \n",
      " `\"Ybbd8\"' 88 88`YbbdP\"'  88       88  `\"Ybbd8\"' 88          \n",
      "              88                                             \n",
      "              88           \n",
      "\n",
      "Here's the encoded result: znepvb nmrqb\n",
      "Here's the decoded result: marcio azedo\n",
      "goodbye\n"
     ]
    }
   ],
   "source": [
    "#CIPHER CAESER\n",
    "\n",
    "alphabet = ['a', 'b', 'c', 'd', 'e', 'f', 'g', 'h', 'i', 'j', 'k', 'l', 'm', 'n', 'o', 'p', 'q', 'r', 's', 't', 'u', 'v', 'w', 'x', 'y', 'z', 'a', 'b', 'c', 'd', 'e', 'f', 'g', 'h', 'i', 'j', 'k', 'l', 'm', 'n', 'o', 'p', 'q', 'r', 's', 't', 'u', 'v', 'w', 'x', 'y', 'z']\n",
    "\n",
    "def caesar(start_text, shift_amount, cipher_direction):\n",
    "  end_text = \"\"\n",
    "  if cipher_direction == \"decode\":\n",
    "    shift_amount *= -1\n",
    "  for char in start_text:\n",
    "    if char in alphabet: # confirm if its in the alphabet to only run the CIPHER in letters\n",
    "      #TODO-3: What happens if the user enters a number/symbol/space?\n",
    "      #Can you fix the code to keep the number/symbol/space when the text is encoded/decoded?\n",
    "      #e.g. start_text = \"meet me at 3\"\n",
    "      #end_text = \"•••• •• •• 3\"\n",
    "      position = alphabet.index(char)\n",
    "      new_position = position + shift_amount\n",
    "      end_text += alphabet[new_position]\n",
    "    else:\n",
    "      end_text += char # if its not in the alphabet(space, simbles or numbers)\n",
    "    \n",
    "  print(f\"Here's the {cipher_direction}d result: {end_text}\")\n",
    "\n",
    "  \n",
    "\n",
    "#TODO-1: Import and print the logo from art.py when the program starts.\n",
    "logo = \"\"\"           \n",
    " ,adPPYba, ,adPPYYba,  ,adPPYba, ,adPPYba, ,adPPYYba, 8b,dPPYba,  \n",
    "a8\"     \"\" \"\"     `Y8 a8P_____88 I8[    \"\" \"\"     `Y8 88P'   \"Y8  \n",
    "8b         ,adPPPPP88 8PP\"\"\"\"\"\"\"  `\"Y8ba,  ,adPPPPP88 88          \n",
    "\"8a,   ,aa 88,    ,88 \"8b,   ,aa aa    ]8I 88,    ,88 88          \n",
    " `\"Ybbd8\"' `\"8bbdP\"Y8  `\"Ybbd8\"' `\"YbbdP\"' `\"8bbdP\"Y8 88   \n",
    "            88             88                                 \n",
    "           \"\"             88                                 \n",
    "                          88                                 \n",
    " ,adPPYba, 88 8b,dPPYba,  88,dPPYba,   ,adPPYba, 8b,dPPYba,  \n",
    "a8\"     \"\" 88 88P'    \"8a 88P'    \"8a a8P_____88 88P'   \"Y8  \n",
    "8b         88 88       d8 88       88 8PP\"\"\"\"\"\"\" 88          \n",
    "\"8a,   ,aa 88 88b,   ,a8\" 88       88 \"8b,   ,aa 88          \n",
    " `\"Ybbd8\"' 88 88`YbbdP\"'  88       88  `\"Ybbd8\"' 88          \n",
    "              88                                             \n",
    "              88           \n",
    "\"\"\"\n",
    "print(logo)\n",
    "\n",
    "#TODO-4: Can you figure out a way to ask the user if they want to restart the cipher program?\n",
    "#e.g. Type 'yes' if you want to go again. Otherwise type 'no'.\n",
    "#If they type 'yes' then ask them for the direction/text/shift again and call the caesar() function again?\n",
    "#Hint: Try creating a while loop that continues to execute the program if the user types 'yes'. \n",
    "run = True\n",
    "while run:\n",
    "  \n",
    "  direction = input(\"Type 'encode' to encrypt, type 'decode' to decrypt:\\n\").lower()\n",
    "  text = input(\"Type your message:\\n\").lower()\n",
    "  shift = int(input(\"Type the shift number:\\n\"))\n",
    "\n",
    "  #TODO-2: What if the user enters a shift that is greater than the number of letters in the alphabet?\n",
    "  #Try running the program and entering a shift number of 45.\n",
    "  #Add some code so that the program continues to work even if the user enters a shift number greater than 26. \n",
    "  #Hint: Think about how you can use the modulus (%).\n",
    "  shift = shift % 26 # protect the number\n",
    "\n",
    "  caesar(start_text=text, shift_amount=shift, cipher_direction=direction)\n",
    "  question = input(\"Do you want to keep runing CEASAR CIPHER? yes or no\").lower()\n",
    "  if question == \"no\":\n",
    "    run = False\n",
    "    print(\"goodbye\")\n"
   ]
  },
  {
   "cell_type": "code",
   "execution_count": 53,
   "metadata": {},
   "outputs": [
    {
     "name": "stdout",
     "output_type": "stream",
     "text": [
      "a\n",
      "computer error\n"
     ]
    },
    {
     "ename": "",
     "evalue": "",
     "output_type": "error",
     "traceback": [
      "\u001b[1;31mThe Kernel crashed while executing code in the the current cell or a previous cell. Please review the code in the cell(s) to identify a possible cause of the failure. Click <a href='https://aka.ms/vscodeJupyterKernelCrash'>here</a> for more info. View Jupyter <a href='command:jupyter.viewOutput'>log</a> for further details."
     ]
    }
   ],
   "source": [
    "# selecting from lists and dictionaries\n",
    "\n",
    "#lists[0] uses index to find itens\n",
    "list = [\"marcio\", \"gabi\", \"bela\", \"cris\"]\n",
    "print(list[2][-1]) # [iten][index caracter]\n",
    "\n",
    "#dictionaries[\"bug\"] uses keys : values  to find itens\n",
    "dictionaries = {\n",
    "    \"bug\": \"computer error\", \"function\": \"a piece of code that can be used\", \"loop\": \"action of doing something over and over\"\n",
    "}\n",
    "print(dictionaries[\"bug\"])"
   ]
  }
 ],
 "metadata": {
  "kernelspec": {
   "display_name": "Python 3",
   "language": "python",
   "name": "python3"
  },
  "language_info": {
   "codemirror_mode": {
    "name": "ipython",
    "version": 3
   },
   "file_extension": ".py",
   "mimetype": "text/x-python",
   "name": "python",
   "nbconvert_exporter": "python",
   "pygments_lexer": "ipython3",
   "version": "3.11.8"
  }
 },
 "nbformat": 4,
 "nbformat_minor": 2
}
